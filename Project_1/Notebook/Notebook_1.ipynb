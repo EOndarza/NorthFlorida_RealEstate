{
 "cells": [
  {
   "cell_type": "code",
   "execution_count": 16,
   "id": "efeaafe7-e8c3-4c94-b010-207e2c7dc2ce",
   "metadata": {},
   "outputs": [
    {
     "name": "stdout",
     "output_type": "stream",
     "text": [
      "Tax ID\n",
      "A04B037D                    $899,900.00\n",
      "0711317024002100120         $368,000.00\n",
      "6287304                       $3,200.00\n",
      "182618001000Z000210       $1,199,999.00\n",
      "U2828191KW000002002010      $205,100.00\n",
      "Name: List Price, dtype: object\n"
     ]
    },
    {
     "data": {
      "text/html": [
       "<div>\n",
       "<style scoped>\n",
       "    .dataframe tbody tr th:only-of-type {\n",
       "        vertical-align: middle;\n",
       "    }\n",
       "\n",
       "    .dataframe tbody tr th {\n",
       "        vertical-align: top;\n",
       "    }\n",
       "\n",
       "    .dataframe thead th {\n",
       "        text-align: right;\n",
       "    }\n",
       "</style>\n",
       "<table border=\"1\" class=\"dataframe\">\n",
       "  <thead>\n",
       "    <tr style=\"text-align: right;\">\n",
       "      <th></th>\n",
       "      <th>Property Zip</th>\n",
       "      <th>Mailing Zip</th>\n",
       "      <th>List Price</th>\n",
       "      <th>Days On Market</th>\n",
       "      <th>Bedrooms</th>\n",
       "      <th>Bathrooms</th>\n",
       "      <th>Square Footage</th>\n",
       "      <th>Year Built</th>\n",
       "      <th>Phone Counter</th>\n",
       "      <th>Email Counter</th>\n",
       "      <th>Mail Counter</th>\n",
       "    </tr>\n",
       "  </thead>\n",
       "  <tbody>\n",
       "    <tr>\n",
       "      <th>count</th>\n",
       "      <td>4317.000000</td>\n",
       "      <td>4317.000000</td>\n",
       "      <td>4.317000e+03</td>\n",
       "      <td>1903.000000</td>\n",
       "      <td>3732.000000</td>\n",
       "      <td>3734.000000</td>\n",
       "      <td>3790.000000</td>\n",
       "      <td>3872.000000</td>\n",
       "      <td>4316.0</td>\n",
       "      <td>4316.0</td>\n",
       "      <td>4317.0</td>\n",
       "    </tr>\n",
       "    <tr>\n",
       "      <th>mean</th>\n",
       "      <td>32943.445217</td>\n",
       "      <td>34612.125782</td>\n",
       "      <td>4.361439e+05</td>\n",
       "      <td>132.789280</td>\n",
       "      <td>4.343248</td>\n",
       "      <td>3.133503</td>\n",
       "      <td>2104.577441</td>\n",
       "      <td>1987.551653</td>\n",
       "      <td>0.0</td>\n",
       "      <td>0.0</td>\n",
       "      <td>0.0</td>\n",
       "    </tr>\n",
       "    <tr>\n",
       "      <th>std</th>\n",
       "      <td>2185.952932</td>\n",
       "      <td>12128.197870</td>\n",
       "      <td>8.666252e+05</td>\n",
       "      <td>100.415662</td>\n",
       "      <td>69.869859</td>\n",
       "      <td>49.911040</td>\n",
       "      <td>4635.187863</td>\n",
       "      <td>24.436029</td>\n",
       "      <td>0.0</td>\n",
       "      <td>0.0</td>\n",
       "      <td>0.0</td>\n",
       "    </tr>\n",
       "    <tr>\n",
       "      <th>min</th>\n",
       "      <td>646.000000</td>\n",
       "      <td>646.000000</td>\n",
       "      <td>0.000000e+00</td>\n",
       "      <td>0.000000</td>\n",
       "      <td>0.000000</td>\n",
       "      <td>0.000000</td>\n",
       "      <td>0.000000</td>\n",
       "      <td>1800.000000</td>\n",
       "      <td>0.0</td>\n",
       "      <td>0.0</td>\n",
       "      <td>0.0</td>\n",
       "    </tr>\n",
       "    <tr>\n",
       "      <th>25%</th>\n",
       "      <td>32778.000000</td>\n",
       "      <td>32712.000000</td>\n",
       "      <td>2.069000e+05</td>\n",
       "      <td>60.000000</td>\n",
       "      <td>3.000000</td>\n",
       "      <td>2.000000</td>\n",
       "      <td>1200.000000</td>\n",
       "      <td>1973.000000</td>\n",
       "      <td>0.0</td>\n",
       "      <td>0.0</td>\n",
       "      <td>0.0</td>\n",
       "    </tr>\n",
       "    <tr>\n",
       "      <th>50%</th>\n",
       "      <td>33584.000000</td>\n",
       "      <td>33579.000000</td>\n",
       "      <td>3.430000e+05</td>\n",
       "      <td>111.000000</td>\n",
       "      <td>3.000000</td>\n",
       "      <td>2.000000</td>\n",
       "      <td>1570.000000</td>\n",
       "      <td>1990.000000</td>\n",
       "      <td>0.0</td>\n",
       "      <td>0.0</td>\n",
       "      <td>0.0</td>\n",
       "    </tr>\n",
       "    <tr>\n",
       "      <th>75%</th>\n",
       "      <td>33634.000000</td>\n",
       "      <td>33634.000000</td>\n",
       "      <td>4.680000e+05</td>\n",
       "      <td>182.000000</td>\n",
       "      <td>4.000000</td>\n",
       "      <td>3.000000</td>\n",
       "      <td>2179.750000</td>\n",
       "      <td>2006.000000</td>\n",
       "      <td>0.0</td>\n",
       "      <td>0.0</td>\n",
       "      <td>0.0</td>\n",
       "    </tr>\n",
       "    <tr>\n",
       "      <th>max</th>\n",
       "      <td>35983.000000</td>\n",
       "      <td>99350.000000</td>\n",
       "      <td>2.630000e+07</td>\n",
       "      <td>539.000000</td>\n",
       "      <td>4271.000000</td>\n",
       "      <td>3051.000000</td>\n",
       "      <td>155215.000000</td>\n",
       "      <td>2024.000000</td>\n",
       "      <td>0.0</td>\n",
       "      <td>0.0</td>\n",
       "      <td>0.0</td>\n",
       "    </tr>\n",
       "  </tbody>\n",
       "</table>\n",
       "</div>"
      ],
      "text/plain": [
       "       Property Zip   Mailing Zip    List Price  Days On Market     Bedrooms  \\\n",
       "count   4317.000000   4317.000000  4.317000e+03     1903.000000  3732.000000   \n",
       "mean   32943.445217  34612.125782  4.361439e+05      132.789280     4.343248   \n",
       "std     2185.952932  12128.197870  8.666252e+05      100.415662    69.869859   \n",
       "min      646.000000    646.000000  0.000000e+00        0.000000     0.000000   \n",
       "25%    32778.000000  32712.000000  2.069000e+05       60.000000     3.000000   \n",
       "50%    33584.000000  33579.000000  3.430000e+05      111.000000     3.000000   \n",
       "75%    33634.000000  33634.000000  4.680000e+05      182.000000     4.000000   \n",
       "max    35983.000000  99350.000000  2.630000e+07      539.000000  4271.000000   \n",
       "\n",
       "         Bathrooms  Square Footage   Year Built  Phone Counter  Email Counter  \\\n",
       "count  3734.000000     3790.000000  3872.000000         4316.0         4316.0   \n",
       "mean      3.133503     2104.577441  1987.551653            0.0            0.0   \n",
       "std      49.911040     4635.187863    24.436029            0.0            0.0   \n",
       "min       0.000000        0.000000  1800.000000            0.0            0.0   \n",
       "25%       2.000000     1200.000000  1973.000000            0.0            0.0   \n",
       "50%       2.000000     1570.000000  1990.000000            0.0            0.0   \n",
       "75%       3.000000     2179.750000  2006.000000            0.0            0.0   \n",
       "max    3051.000000   155215.000000  2024.000000            0.0            0.0   \n",
       "\n",
       "       Mail Counter  \n",
       "count        4317.0  \n",
       "mean            0.0  \n",
       "std             0.0  \n",
       "min             0.0  \n",
       "25%             0.0  \n",
       "50%             0.0  \n",
       "75%             0.0  \n",
       "max             0.0  "
      ]
     },
     "execution_count": 16,
     "metadata": {},
     "output_type": "execute_result"
    }
   ],
   "source": [
    "from googlemaps import Client as GoogleMaps\n",
    "from geopy.geocoders import Nominatim\n",
    "import time\n",
    "import matplotlib.pyplot as plt\n",
    "import seaborn as sns\n",
    "import pandas as pd\n",
    "import numpy as np \n",
    "\n",
    "df1 = pd.read_csv(\"2023-12-18_RAW(FloridaREData).csv\")\n",
    "\n",
    "df1.drop(['Folders','Vortex ID','Lead Status', 'Remarks', 'Agent Remarks', 'Name 3', 'Name 4', 'Name 5', 'Name 6', 'Name 7', 'Name 8', 'Name 9', 'MLS Name 3', 'MLS Name 4', 'MLS Name 5'], axis=1, inplace=True)\n",
    "\n",
    "\n",
    "mail_counter_median = df1['Mail Counter'].median()\n",
    "\n",
    "df1['Mail Counter'].fillna(mail_counter_median, inplace=True)\n",
    "\n",
    "missing_tax_id_count = df1['Tax ID'].isnull().sum()\n",
    "\n",
    "new_tax_ids = ['1+' + str(i) for i in range(1, missing_tax_id_count + 1)]\n",
    "\n",
    "df1.loc[df1['Tax ID'].isnull(), 'Tax ID'] = new_tax_ids\n",
    "df1.set_index('Tax ID', inplace=True)\n",
    "\n",
    "\n",
    "\n",
    "# # Applying the formatting to the 'List Price' column\n",
    "# df1['List Price'] = df1['List Price'].apply(format_dollars)\n",
    "# Example: When visualizing or displaying 'List Price'\n",
    "print(df1['List Price'].apply(format_dollars).head())\n",
    "\n",
    "# descriptive statistics \n",
    "df1.describe()\n"
   ]
  },
  {
   "cell_type": "code",
   "execution_count": 17,
   "id": "bdcf72f1-f5ad-45b8-9c40-04e4c42efd69",
   "metadata": {},
   "outputs": [
    {
     "data": {
      "image/png": "[encoded data removed]",
      "text/plain": [
       "<Figure size 432x288 with 1 Axes>"
      ]
     },
     "metadata": {
      "needs_background": "light"
     },
     "output_type": "display_data"
    }
   ],
   "source": [
    "# Apply log transformation\n",
    "df1['Log List Price'] = np.log(df1['List Price'] + 1)  # Adding 1 to avoid log(0)\n",
    "\n",
    "# Plotting the log-transformed data\n",
    "plt.hist(df1['Log List Price'], bins=20)\n",
    "plt.title('Log Transformed Distribution of List Prices')\n",
    "plt.xlabel('Log of List Price')\n",
    "plt.ylabel('Frequency')\n",
    "plt.show()\n",
    "\n",
    "\n",
    "\n",
    "\n",
    "\n",
    "# # Histogram with formatted labels\n",
    "# plt.hist(df1['List Price'], bins=20)\n",
    "# plt.title('Distribution of List Prices')\n",
    "# plt.xlabel('List Price')\n",
    "# plt.ylabel('Frequency')\n",
    "\n",
    "# # Format x-axis labels as dollar values\n",
    "# plt.gca().get_xaxis().set_major_formatter(\n",
    "#     plt.FuncFormatter(lambda x, _: format_dollars(x))\n",
    "# )\n",
    "# plt.show()\n"
   ]
  },
  {
   "cell_type": "code",
   "execution_count": 18,
   "id": "3b11cf00-41ba-436e-a181-e618647bda52",
   "metadata": {},
   "outputs": [
    {
     "data": {
      "image/png": "[encoded data removed]",
      "text/plain": [
       "<Figure size 432x288 with 1 Axes>"
      ]
     },
     "metadata": {
      "needs_background": "light"
     },
     "output_type": "display_data"
    }
   ],
   "source": [
    "plt.hist(df1['List Price'], bins=20)\n",
    "plt.title('Distribution of List Prices')\n",
    "plt.xlabel('List Price')\n",
    "plt.ylabel('Frequency')\n",
    "plt.xscale('log')  # Set x-axis to a logarithmic scale\n",
    "plt.show()\n",
    "\n",
    "\n"
   ]
  },
  {
   "cell_type": "code",
   "execution_count": 19,
   "id": "4256f333-fc93-45ad-8761-fdf4a0e3a7a9",
   "metadata": {},
   "outputs": [
    {
     "data": {
      "image/png": "[encoded data removed]",
      "text/plain": [
       "<Figure size 432x288 with 1 Axes>"
      ]
     },
     "metadata": {
      "needs_background": "light"
     },
     "output_type": "display_data"
    }
   ],
   "source": [
    "df1['List Price'].hist(bins=20)\n",
    "plt.title('Distribution of List Prices')\n",
    "plt.xlabel('List Price')\n",
    "plt.ylabel('Frequency')\n",
    "plt.show()"
   ]
  },
  {
   "cell_type": "code",
   "execution_count": 20,
   "id": "0360c1fc-4950-4d7d-821c-305b792f7f13",
   "metadata": {},
   "outputs": [
    {
     "name": "stdout",
     "output_type": "stream",
     "text": [
      "        Latitude  Longitude\n",
      "32137  29.625068 -81.218835\n",
      "33709  27.821958 -82.740109\n",
      "30294  33.629985 -84.259486\n",
      "33843  27.733328 -81.493799\n",
      "32835  28.510787 -81.482820\n",
      "...          ...        ...\n",
      "30127  33.882246 -84.668835\n",
      "34240  27.327532 -82.334337\n",
      "33853  27.907758 -81.587060\n",
      "33903  26.677175 -81.893448\n",
      "34242  27.275276 -82.556456\n",
      "\n",
      "[237 rows x 2 columns]\n"
     ]
    },
    {
     "data": {
      "text/plain": [
       "<bound method DataFrame.info of         Latitude  Longitude\n",
       "32137  29.625068 -81.218835\n",
       "33709  27.821958 -82.740109\n",
       "30294  33.629985 -84.259486\n",
       "33843  27.733328 -81.493799\n",
       "32835  28.510787 -81.482820\n",
       "...          ...        ...\n",
       "30127  33.882246 -84.668835\n",
       "34240  27.327532 -82.334337\n",
       "33853  27.907758 -81.587060\n",
       "33903  26.677175 -81.893448\n",
       "34242  27.275276 -82.556456\n",
       "\n",
       "[237 rows x 2 columns]>"
      ]
     },
     "execution_count": 20,
     "metadata": {},
     "output_type": "execute_result"
    }
   ],
   "source": [
    "\n",
    "\n",
    "\n",
    "\n",
    "# Identify numeric columns\n",
    "numeric_cols = df1.select_dtypes(include=['float64', 'int64']).columns\n",
    "\n",
    "# Loop through numeric columns and correct non-numeric values\n",
    "for col in numeric_cols:\n",
    "    # Convert to numeric and coerce errors to NaN\n",
    "    df1[col] = pd.to_numeric(df1[col], errors='coerce')\n",
    "\n",
    "\n",
    "\n",
    "\n",
    "\n",
    "# Initialize Google Maps\n",
    "gmaps = GoogleMaps('your API Key')\n",
    "\n",
    "# Your list of zip codes\n",
    "zip_codes = [32137, 33709, 30294, 33843, 32835, 32656, 32825, 32821, 32837, 32764, 33755, 33578,\n",
    "             33594, 33547, 969, 34210, 30180, 646, 33545, 34786, 34744, 30115, 30360, 33765,\n",
    "             34746, 33565, 33570, 34234, 34695, 34208, 30040, 32605, 34491, 34747, 34602, 33706,\n",
    "             33947, 34637, 30075, 30168, 34219, 33786, 32162, 34275, 34209, 33981, 30019, 33803,\n",
    "             30173, 33572, 30143, 34606, 34291, 30338, 34205, 30663, 32720, 33897, 33613, 33607,\n",
    "             34761, 32141, 32763, 30153, 30009, 34431, 33953, 34482, 34684, 33602, 32771, 33513,\n",
    "             30044, 30577, 34481, 34689, 33872, 33823, 30318, 30655, 33898, 33543, 34286, 30135,\n",
    "             33610, 33579, 33844, 30144, 32080, 34293, 30038, 30560, 32615, 33612, 30909, 33615,\n",
    "             30043, 34288, 30549, 30296, 33781, 33558, 33614, 33647, 33592, 32949, 30236, 30004,\n",
    "             30141, 30248, 32145, 34677, 33605, 33511, 33870, 33852, 33624, 32826, 34212, 34787,\n",
    "             34236, 32641, 33950, 33548, 32174, 30012, 30114, 32134, 34607, 34480, 34221, 32766,\n",
    "             34217, 33980, 33619, 32810, 33935, 33634, 34753, 33909, 33563, 34222, 33584, 33618,\n",
    "             33711, 34711, 34442, 32806, 30542, 33896, 30317, 30311, 30134, 30014, 33952, 34974,\n",
    "             30326, 33544, 33954, 30058, 30312, 30309, 30107, 32736, 33876, 34758, 30076, 34668,\n",
    "             32746, 30291, 791, 30736, 32608, 30062, 30233, 30178, 33983, 32712, 30354, 34207,\n",
    "             33772, 30345, 33921, 34788, 30519, 34285, 33715, 30011, 32804, 32701, 30189, 30534,\n",
    "             34231, 30066, 32819, 32038, 33510, 30013, 32773, 30064, 34691, 33625, 30315, 32609,\n",
    "             34698, 34473, 32177, 33596, 30313, 34474, 30030, 32653, 32136, 30558, 34465, 32725,\n",
    "             30536, 30045, 30028, 30046, 33705, 30504, 33135, 34453, 30344, 30540, 32751, 30132,\n",
    "             30518, 30017, 33707, 32750, 30273, 30127, 34240, 33853, 33903, 34242]\n",
    "\n",
    "# Fetch lat-long data\n",
    "lat_long = {}\n",
    "for zip_code in zip_codes:\n",
    "    geocode_result = gmaps.geocode(f\"{zip_code}, USA\")\n",
    "    if geocode_result:\n",
    "        location = geocode_result[0]['geometry']['location']\n",
    "        lat_long[zip_code] = (location['lat'], location['lng'])\n",
    "\n",
    "# Convert to DataFrame\n",
    "location_df = pd.DataFrame.from_dict(lat_long, orient='index', columns=['Latitude', 'Longitude'])\n",
    "print(location_df)\n",
    "location_df.info\n",
    "\n",
    "\n",
    "\n",
    "\n"
   ]
  },
  {
   "cell_type": "code",
   "execution_count": 23,
   "id": "a88ed46f-dba8-4ec8-9f98-e5859e21613c",
   "metadata": {},
   "outputs": [
    {
     "name": "stdout",
     "output_type": "stream",
     "text": [
      "List Price        1.000000\n",
      "Log List Price    0.328778\n",
      "Square Footage    0.238909\n",
      "Days On Market    0.069433\n",
      "Year Built        0.067266\n",
      "Bathrooms         0.017584\n",
      "Bedrooms          0.012963\n",
      "Property Zip     -0.021168\n",
      "Mailing Zip      -0.026491\n",
      "Phone Counter          NaN\n",
      "Email Counter          NaN\n",
      "Mail Counter           NaN\n",
      "Name: List Price, dtype: float64\n"
     ]
    }
   ],
   "source": [
    "# Save the cleaned data\n",
    "df1.to_csv('path_to_your_cleaned_file.csv', index=False)\n",
    "\n",
    "\n",
    "\n",
    "# Calculate correlation matrix\n",
    "correlation_matrix = df1.corr()\n",
    "\n",
    "# Display the correlation with the sales price column\n",
    "list_price_correlation = correlation_matrix['List Price']\n",
    "print(list_price_correlation.sort_values(ascending=False))\n"
   ]
  },
  {
   "cell_type": "code",
   "execution_count": null,
   "id": "bb56e93a-43f2-462b-886f-0200a0ec5b24",
   "metadata": {},
   "outputs": [],
   "source": [
    "df1.isnull().sum()"
   ]
  },
  {
   "cell_type": "code",
   "execution_count": null,
   "id": "34484176-a85b-4ffe-ae12-e9a01f34c898",
   "metadata": {},
   "outputs": [],
   "source": [
    "df1[''].fillna(df1['column_name'].mean(), inplace=True)  # Example of filling missing values with the mean"
   ]
  },
  {
   "cell_type": "code",
   "execution_count": null,
   "id": "2f4743ea-a221-4028-b527-6a9d6dcf785c",
   "metadata": {},
   "outputs": [],
   "source": [
    "# Display the first few rows of the DataFrame\n",
    "print(location_df.head())\n",
    "# Check the number of unique entries\n",
    "print(\"Number of unique zip codes:\", len(location_df))\n"
   ]
  },
  {
   "cell_type": "code",
   "execution_count": null,
   "id": "9e2def50-2578-4954-8634-c3180e018d6d",
   "metadata": {},
   "outputs": [],
   "source": []
  }
 ],
 "metadata": {
  "kernelspec": {
   "display_name": "dev",
   "language": "python",
   "name": "dev"
  },
  "language_info": {
   "codemirror_mode": {
    "name": "ipython",
    "version": 3
   },
   "file_extension": ".py",
   "mimetype": "text/x-python",
   "name": "python",
   "nbconvert_exporter": "python",
   "pygments_lexer": "ipython3",
   "version": "3.7.13"
  }
 },
 "nbformat": 4,
 "nbformat_minor": 5
}
